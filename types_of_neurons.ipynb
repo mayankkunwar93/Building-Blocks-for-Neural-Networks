{
  "nbformat": 4,
  "nbformat_minor": 0,
  "metadata": {
    "colab": {
      "provenance": []
    },
    "kernelspec": {
      "name": "python3",
      "display_name": "Python 3"
    },
    "language_info": {
      "name": "python"
    }
  },
  "cells": [
    {
      "cell_type": "code",
      "execution_count": null,
      "metadata": {
        "id": "NJMskclH8w8S"
      },
      "outputs": [],
      "source": [
        "import torch\n",
        "from torch import nn"
      ]
    },
    {
      "cell_type": "code",
      "source": [
        "input = torch.randn(4)\n",
        "print(input)"
      ],
      "metadata": {
        "id": "78eP3pX481Ct"
      },
      "execution_count": null,
      "outputs": []
    },
    {
      "cell_type": "code",
      "source": [
        "# ReLU output\n",
        "output_relu = nn.ReLU()(input)\n",
        "print(output_relu)\n",
        "\n",
        "# Sigmoid output\n",
        "output_sigmoid = nn.Sigmoid()(input)\n",
        "print(output_sigmoid)\n",
        "\n",
        "# Tanh output\n",
        "output_tanh = nn.Tanh()(input)\n",
        "print(output_tanh)\n",
        "\n",
        "# Softmax output\n",
        "output_softmax = nn.Softmax()(input)\n",
        "print(output_softmax)\n",
        "\n",
        "# Leaky bReLU output\n",
        "output_lrelu = nn.LeakyReLU()(input)\n",
        "print(output_lrelu)\n",
        "\n",
        "# Softplus output\n",
        "output_softplus = nn.Softplus()(input)\n",
        "print(output_softplus)"
      ],
      "metadata": {
        "id": "0bS_X0Uv81At"
      },
      "execution_count": null,
      "outputs": []
    },
    {
      "cell_type": "code",
      "source": [],
      "metadata": {
        "id": "vai-P0UY80-e"
      },
      "execution_count": null,
      "outputs": []
    },
    {
      "cell_type": "code",
      "source": [],
      "metadata": {
        "id": "1Llu3wHY808O"
      },
      "execution_count": null,
      "outputs": []
    }
  ]
}